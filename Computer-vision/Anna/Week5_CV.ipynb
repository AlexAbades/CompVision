{
 "cells": [
  {
   "cell_type": "markdown",
   "id": "2e5640da",
   "metadata": {},
   "source": [
    "## Exercise 5: Nonlinear optimization, camera calibration.\n"
   ]
  },
  {
   "cell_type": "markdown",
   "id": "10d042f6",
   "metadata": {},
   "source": [
    "These exercises will take you through:\n",
    "- checkerboard calibration, in real life with OpenCV.\n",
    "- non-linear optimization, where you will implement a function non-linear triangulation\n"
   ]
  },
  {
   "cell_type": "code",
   "execution_count": 34,
   "id": "a68a35a4",
   "metadata": {},
   "outputs": [],
   "source": [
    "import cv2\n",
    "import matplotlib.pyplot as plt\n",
    "import numpy as np\n",
    "from scipy.interpolate import RegularGridInterpolator\n",
    "from scipy.spatial.transform import Rotation\n",
    "from scipy.optimize import least_squares"
   ]
  },
  {
   "cell_type": "markdown",
   "id": "ad355aea",
   "metadata": {},
   "source": [
    "### Nonlinear optimization\n",
    "\n",
    "This exercise will take you through doing nonlinear optimization for triangulation of a single point. The same principles can be applied to more complex situations such as camera calibration, or situations where we lack a linear algoritm.\n",
    "\n",
    "Construct two cameras with $R_1 = R_2 = I, t_1=\\begin{bmatrix} 0 & 0 & 1 \\end{bmatrix}^T,  t_2=\\begin{bmatrix} 0 & 0 & 20 \\end{bmatrix}^T$ and \n",
    "\n",
    "$$ K_1=K_2=\\begin{bmatrix} f & \\beta f & \\delta_x \\\\ 0 & \\alpha f & \\delta_y \\\\ 0 & 0 & 1 \\end{bmatrix}=\\begin{bmatrix} 700 & 0 & 600 \\\\ 0 & 700 & 400 \\\\ 0 & 0 & 1 \\end{bmatrix}$$\n",
    "\n",
    "The cameras both observe the same 3D point $Q =\\begin{bmatrix} 1 & 1 & 0 \\end{bmatrix}^T$.\n",
    "\n",
    "\n",
    "\n",
    "\n",
    "- **Exercise 5.1**. What are the projection matrices $P_1$ and $P_2$ ?.\n",
    "What is the projection of $Q$ in cameras one and two ($q_1$ and $q_2$) ?\n"
   ]
  },
  {
   "cell_type": "code",
   "execution_count": 2,
   "id": "74810a1b",
   "metadata": {},
   "outputs": [
    {
     "name": "stdout",
     "output_type": "stream",
     "text": [
      "The projection matrix of Camera 1:\n",
      "[[700.   0. 600. 600.]\n",
      " [  0. 700. 400. 400.]\n",
      " [  0.   0.   1.   1.]]\n",
      "\n",
      "\n",
      "The projection matrix of Camera 2:\n",
      "[[7.0e+02 0.0e+00 6.0e+02 1.2e+04]\n",
      " [0.0e+00 7.0e+02 4.0e+02 8.0e+03]\n",
      " [0.0e+00 0.0e+00 1.0e+00 2.0e+01]]\n"
     ]
    }
   ],
   "source": [
    "#Camera matrix\n",
    "K=np.array([[700,0,600],[0,700,400],[0,0,1]])\n",
    "R=np.eye(3) #rotation\n",
    "t1=np.transpose([0,0,1]) #translation\n",
    "t2=np.transpose([0,0,20]) #translation\n",
    "Cam1=np.column_stack((R,t1))\n",
    "Cam2=np.column_stack((R,t2))\n",
    "\n",
    "#Projection matrices\n",
    "P1=K@Cam1\n",
    "P2=K@Cam2\n",
    "print('The projection matrix of Camera 1:')\n",
    "print(np.round(P1,2))\n",
    "print('\\n')\n",
    "print('The projection matrix of Camera 2:')\n",
    "print(np.round(P2,2))"
   ]
  },
  {
   "cell_type": "code",
   "execution_count": 3,
   "id": "75f46dd3",
   "metadata": {},
   "outputs": [],
   "source": [
    "def projectpoints(P,Q):\n",
    "    [m,n]=np.shape(Q)\n",
    "    cnt=np.ones(m)\n",
    "    Q_ext=np.column_stack((Q,cnt))\n",
    "\n",
    "    projection=P@Q_ext.T\n",
    "    \n",
    "    qx=np.transpose([projection[0]/projection[2]])\n",
    "    qy=np.transpose([projection[1]/projection[2]])\n",
    "    \n",
    "    q=np.column_stack((qx,qy))\n",
    "    \n",
    "    return q"
   ]
  },
  {
   "cell_type": "code",
   "execution_count": 4,
   "id": "fd442a83",
   "metadata": {},
   "outputs": [
    {
     "name": "stdout",
     "output_type": "stream",
     "text": [
      "The projection of Q in camera 1 is: [[1300. 1100.]]\n",
      "The projection of Q in camera 2 is: [[635. 435.]]\n"
     ]
    }
   ],
   "source": [
    "Q=np.array([[1,1,0]])\n",
    "\n",
    "q1=projectpoints(P1,Q)\n",
    "q2=projectpoints(P2,Q)\n",
    "\n",
    "print('The projection of Q in camera 1 is:',q1)\n",
    "print('The projection of Q in camera 2 is:',q2)"
   ]
  },
  {
   "cell_type": "markdown",
   "id": "760b7f15",
   "metadata": {},
   "source": [
    "- **Exercise 5.2**.To simulate noise in the detection of points, we add errors to our projections.\n",
    "$$q'_1 = q_1 +\\begin{bmatrix} 1 & -1 \\end{bmatrix}^T, q'_2 = q_2 + \\begin{bmatrix} 1 & -1 \\end{bmatrix}^T $$\n",
    "\n",
    "\n",
    "Use your function `triangulate` from week 3 to triangulate $Q$ from $[q'_1,q'_2]$ and $[P_1, P_2]$.\n",
    "\n",
    "\n",
    "Take the newly triangulated point $Q'$ and re-project it to the cameras. How far is it from our observations of the point ($q'_1$, $q'_2$)? \n",
    "\n",
    "In other words, what is the reprojection error for each camera? Is this as you expected when recalling the lecture from week 3?\n",
    "How far is $Q'$ from $Q$?"
   ]
  },
  {
   "cell_type": "code",
   "execution_count": 5,
   "id": "fc5da39c",
   "metadata": {},
   "outputs": [],
   "source": [
    "def triangulate(qi,Pi):\n",
    "    num=len(qi)\n",
    "    B=[0,0,0,0]\n",
    "    for a in range(num):\n",
    "        x=qi[a][0][0]\n",
    "        y=qi[a][0][1]\n",
    "        P=Pi[a]\n",
    "        #B is an array (2*n x 4), where n is the number of cameras\n",
    "        Bi=np.array([P[2,:]*x-P[0,:],P[2,:]*y-P[1,:]])\n",
    "        B=np.vstack([B, Bi])\n",
    "        \n",
    "    B=B[1:]\n",
    "    u,s,vh= np.linalg.svd(B,full_matrices=True, compute_uv=True)\n",
    "    \n",
    "    BQ=vh[-1,:] / vh[-1,-1]\n",
    "    Q_tri=np.array([[BQ[0],BQ[1],BQ[2]]])\n",
    "    \n",
    "    return Q_tri"
   ]
  },
  {
   "cell_type": "code",
   "execution_count": 7,
   "id": "4111019c",
   "metadata": {},
   "outputs": [
    {
     "name": "stdout",
     "output_type": "stream",
     "text": [
      "The newly triangulated point Q is: [[1.01527507e+00 9.85270570e-01 2.85786810e-04]]\n"
     ]
    }
   ],
   "source": [
    "Pi=[P1,P2]\n",
    "q1_noise=q1+np.array([1,-1])\n",
    "q2_noise=q2+np.array([1,-1])\n",
    "qi_noise=[q1_noise,q2_noise]\n",
    "\n",
    "Q_tri=triangulate(qi_noise,Pi)\n",
    "\n",
    "print('The newly triangulated point Q is:',Q_tri)"
   ]
  },
  {
   "cell_type": "code",
   "execution_count": 8,
   "id": "30a08ef5",
   "metadata": {},
   "outputs": [],
   "source": [
    "#We reproject the new Q_tri into the cameras:\n",
    "q1_tri=projectpoints(P1,Q_tri)\n",
    "q2_tri=projectpoints(P2,Q_tri)\n",
    "\n",
    "qi_tri=[q1_tri,q2_tri]"
   ]
  },
  {
   "cell_type": "code",
   "execution_count": 9,
   "id": "dce76f9f",
   "metadata": {},
   "outputs": [
    {
     "name": "stdout",
     "output_type": "stream",
     "text": [
      "How far is Q_tri from Q: 0.021221817353380967\n",
      "The reprojection error in camera 1 is: 13.433018988192183 pixels.\n",
      "The reprojection error in camera 2 is: 0.6717725840473774 pixels.\n"
     ]
    }
   ],
   "source": [
    "#ERRORS:\n",
    "#How far is Q from Q_tri\n",
    "errorQ= (Q-Q_tri)**2\n",
    "error_Q= np.sqrt(errorQ[0][0]+errorQ[0][1]+errorQ[0][2])\n",
    "print('How far is Q_tri from Q:',error_Q)\n",
    "\n",
    "#How far is q1 from q1_tri and q2 from q2_tri\n",
    "error_q=[]\n",
    "for i,a in enumerate(qi_tri):\n",
    "    err=(qi_tri[i]-qi_noise[i])**2\n",
    "    error_q.append(np.sqrt(err[0][0]+err[0][1]))\n",
    "print('The reprojection error in camera 1 is:',error_q[0],'pixels.')\n",
    "print('The reprojection error in camera 2 is:',error_q[1],'pixels.')\n"
   ]
  },
  {
   "cell_type": "markdown",
   "id": "5dffb8bc",
   "metadata": {},
   "source": [
    "<font color='darkblue'> We expect the linear algorithm to place a larger weight on the error of camera 2 than camera 1, as it has a larger s. Therefore camera 2 having the smallest reprojection error is as we expected."
   ]
  },
  {
   "cell_type": "markdown",
   "id": "d8a04db9",
   "metadata": {},
   "source": [
    "- **Exercise 5.3**.We are going to make a new function `triangulate_nonlin` that does triangulation using nonlinear optimization. It should take the same inputs as `triangulate`, i.e. a list of n pixel coordinates $(q_1, q_2, ..., q_n)$, and a list of n projection matrices $(P_1, P_2, ..., P_n)$.\n",
    "\n",
    "\n",
    "Start by defining a helper-function inside triangulate_nonlin.\n",
    "This function, called `compute_residuals`, should take the parameters we want to optimize (in this case $Q$) as input, and should returns a vector of residuals (i.e. the numbers that we want to minimize the sum of squares of). In this case the residuals are the differences in projection, i.e.\n",
    "\n",
    "$$\\begin{bmatrix} \\pi(P_1Q) - q'_1 \\\\ ... \\end{bmatrix}$$\n",
    "\n",
    "Call `triangulate` inside your function to get an initial guess `x0` and use `scipy.optimize.least_squares(compute_residuals, x0)`\n",
    "to do least squares optimization, starting from the initial guess of your linear algorithm."
   ]
  },
  {
   "cell_type": "code",
   "execution_count": 179,
   "id": "1e1c55b7",
   "metadata": {},
   "outputs": [],
   "source": [
    "def compute_residuals(Q,qi_noise,Pi):\n",
    "    Q=np.array(Q)\n",
    "    return np.sqrt(np.sum((projectpoints(Pi[0],Q) - qi_noise[0])**2))**2 + np.sqrt(np.sum((projectpoints(Pi[1],Q) - qi_noise[1])**2))\n",
    "\n"
   ]
  },
  {
   "cell_type": "code",
   "execution_count": 180,
   "id": "7cef401f",
   "metadata": {},
   "outputs": [],
   "source": [
    "def triangulate_nonlin(qi_noise,Pi):\n",
    "    \n",
    "    x_ini=triangulate(qi_noise,Pi) #initial guess\n",
    "    BQ=least_squares(compute_residuals, x_ini[0], args=(qi_noise, Pi))\n",
    "    \n",
    "    return BQ\n"
   ]
  },
  {
   "cell_type": "code",
   "execution_count": null,
   "id": "222d45e5",
   "metadata": {},
   "outputs": [],
   "source": []
  },
  {
   "cell_type": "markdown",
   "id": "dec399e1",
   "metadata": {},
   "source": [
    "### Camera calibration with OpenCV"
   ]
  },
  {
   "cell_type": "code",
   "execution_count": 174,
   "id": "8c7f7d19",
   "metadata": {},
   "outputs": [
    {
     "data": {
      "text/plain": [
       "array([[1., 1.]])"
      ]
     },
     "execution_count": 174,
     "metadata": {},
     "output_type": "execute_result"
    }
   ],
   "source": [
    "\n"
   ]
  },
  {
   "cell_type": "code",
   "execution_count": null,
   "id": "6da5a4ea",
   "metadata": {},
   "outputs": [],
   "source": []
  },
  {
   "cell_type": "code",
   "execution_count": null,
   "id": "c0ae0fbb",
   "metadata": {},
   "outputs": [],
   "source": []
  },
  {
   "cell_type": "code",
   "execution_count": null,
   "id": "289b376e",
   "metadata": {},
   "outputs": [],
   "source": []
  },
  {
   "cell_type": "code",
   "execution_count": null,
   "id": "55c40ed6",
   "metadata": {},
   "outputs": [],
   "source": []
  },
  {
   "cell_type": "code",
   "execution_count": null,
   "id": "456a5b5f",
   "metadata": {},
   "outputs": [],
   "source": []
  }
 ],
 "metadata": {
  "kernelspec": {
   "display_name": "Python 3 (ipykernel)",
   "language": "python",
   "name": "python3"
  },
  "language_info": {
   "codemirror_mode": {
    "name": "ipython",
    "version": 3
   },
   "file_extension": ".py",
   "mimetype": "text/x-python",
   "name": "python",
   "nbconvert_exporter": "python",
   "pygments_lexer": "ipython3",
   "version": "3.8.12"
  }
 },
 "nbformat": 4,
 "nbformat_minor": 5
}
