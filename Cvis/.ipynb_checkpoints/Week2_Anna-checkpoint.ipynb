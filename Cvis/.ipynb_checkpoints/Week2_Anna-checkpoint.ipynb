{
 "cells": [
  {
   "cell_type": "markdown",
   "id": "3eebd4ec",
   "metadata": {},
   "source": [
    "## Exercise 2: Rigid and perspective transformations in homogeneous coordinates\n"
   ]
  },
  {
   "cell_type": "code",
   "execution_count": 1,
   "id": "25a36afc",
   "metadata": {},
   "outputs": [],
   "source": [
    "import cv2\n",
    "import matplotlib.pyplot as plt\n",
    "import numpy as np"
   ]
  },
  {
   "cell_type": "markdown",
   "id": "4b8e769a",
   "metadata": {},
   "source": [
    "In these exercises we will assume a modern camera with completely square pixels. What are the skew parameters then?\n",
    "\n",
    "- The skew parameters α and β, where α = 1 and β=0. "
   ]
  },
  {
   "cell_type": "markdown",
   "id": "1c446c67",
   "metadata": {},
   "source": [
    "### Mathematical exercises: Pinhole camera\n",
    "\n",
    "- **Exercise 2.1**. Reuse the `box3` function from last week. Assume that f = 600, α = 1, β = 0, and δx = δy = 400. Given a traditional camera, what is the resolution in pixels?\n",
    "\n",
    "For this camera the sensor has 2 × 400 = 800 pixels along each dimension i.e. a resolution of **800 × 800 pixels.**\n",
    "\n",
    "$$ K = \\begin{bmatrix} f & \\beta f & \\delta_x \\\\ 0 & \\alpha f & \\delta_y \\\\ 0 & 0 & 1 \\end{bmatrix}$$\n",
    "\n",
    "\n",
    "$$ K = \\begin{bmatrix} 600 & 0 & 400 \\\\ 0 & 600 & 400 \\\\ 0 & 0 & 1 \\end{bmatrix}$$\n",
    "\n",
    "Also assume $R = I$, and $t = [0,.2,1.5]^T.$ Use `projectpoint` from last week, to project the points."
   ]
  },
  {
   "cell_type": "code",
   "execution_count": 2,
   "id": "f869ec84",
   "metadata": {},
   "outputs": [],
   "source": [
    "def box3d(n):\n",
    "    comb=[(0.5,0.5),(0.5,-0.5),(-0.5,0.5),(-0.5,-0.5)]\n",
    "    a=np.linspace(-0.5, 0.5, n)\n",
    "    box=[0,0,0]\n",
    "\n",
    "    for j in comb:\n",
    "        for i in a:\n",
    "            p=[i,j[0],j[1]]\n",
    "            box=np.vstack([box, p])\n",
    "\n",
    "    for j in comb:\n",
    "        for i in a[1:-1]:\n",
    "            p=[j[0],i,j[1]]\n",
    "            box=np.vstack([box, p])\n",
    "\n",
    "    for j in comb:\n",
    "        for i in a[1:-1]:\n",
    "            p=[j[0],j[1],i]\n",
    "            box=np.vstack([box, p])\n",
    "\n",
    "    for i in a:\n",
    "        cross1=[i,0,0]   \n",
    "        box=np.vstack([box, cross1])\n",
    "    for i in a:\n",
    "        cross2=[0,i,0]   \n",
    "        box=np.vstack([box, cross2])\n",
    "    for i in a:\n",
    "        cross3=[0,0,i]   \n",
    "        box=np.vstack([box, cross3])\n",
    "      \n",
    "    box=box[1:]\n",
    "\n",
    "    return box\n",
    "\n",
    "\n",
    "def projectpoints(K,Cam,Q):\n",
    "    #projection matrix P\n",
    "    P=K@Cam\n",
    "    \n",
    "    [m,n]=np.shape(Q)\n",
    "    cnt=np.ones(m)\n",
    "    Q_ext=np.column_stack((Q,cnt))\n",
    "    \n",
    "    Q_ext=np.transpose(Q_ext)\n",
    "    \n",
    "    projection=P@(Q_ext)\n",
    "    \n",
    "    qx=np.transpose([projection[0]/projection[2]])\n",
    "    qy=np.transpose([projection[1]/projection[2]])\n",
    "    \n",
    "    project2D=np.column_stack((qx,qy))\n",
    "    \n",
    "    project3D=np.transpose(projection)\n",
    "    \n",
    "    return P, project2D, project3D"
   ]
  },
  {
   "cell_type": "code",
   "execution_count": 10,
   "id": "5814299f",
   "metadata": {},
   "outputs": [
    {
     "name": "stdout",
     "output_type": "stream",
     "text": [
      "The projection matrix of the camera is:\n",
      "[[600.    0.  400.  600. ]\n",
      " [  0.  600.  400.  720. ]\n",
      " [  0.    0.    1.    1.5]]\n"
     ]
    }
   ],
   "source": [
    "K=np.array([[600,0,400],[0,600,400],[0,0,1]]) #camera matrix\n",
    "R=np.array([[1,0,0],[0,1,0],[0,0,1]]) #rotation\n",
    "t=np.transpose([0,0.2,1.5]) #translation\n",
    "Q=box3d(16) #n points in 3D to be projected into the camera\n",
    "\n",
    "Cam=np.column_stack((R,t))\n",
    "\n",
    "P,points2D,points3D=projectpoints(K,Cam,Q)\n",
    "print('The projection matrix of the camera is:')\n",
    "print(P)"
   ]
  },
  {
   "cell_type": "markdown",
   "id": "a8cd750e",
   "metadata": {},
   "source": [
    "Are all the points are captured by the image sensor? \n"
   ]
  },
  {
   "cell_type": "code",
   "execution_count": 30,
   "id": "a6e29967",
   "metadata": {},
   "outputs": [
    {
     "name": "stdout",
     "output_type": "stream",
     "text": [
      "The points not caputed by the image sensor are: [[100.0, 820.0], [140.0, 820.0], [180.0, 820.0], [220.0, 820.0], [260.0, 820.0], [300.0, 820.0], [340.0, 820.0], [380.0, 820.0], [420.0, 820.0], [460.0, 820.0], [500.0, 820.0], [540.0, 820.0], [580.0, 820.0], [620.0, 820.0], [660.0, 820.0], [700.0, 820.0]]\n"
     ]
    }
   ],
   "source": [
    "list_coord=[]\n",
    "for coord in points2D: \n",
    "    if (coord[0]> 800) or (coord[1] > 800):\n",
    "        list_coord.append(list(coord))\n",
    "\n",
    "print('The points not caputed by the image sensor are:',list_coord)"
   ]
  },
  {
   "cell_type": "code",
   "execution_count": 35,
   "id": "cbc34ce7",
   "metadata": {},
   "outputs": [],
   "source": [
    "P1 = [-0.5, -0.5, -0.5]"
   ]
  },
  {
   "cell_type": "markdown",
   "id": "42395fd2",
   "metadata": {},
   "source": [
    "<font color='darkblue'> Some points have an y value greater than 800, and are not visible in the image, as they are outside the image sensor.\n",
    " "
   ]
  },
  {
   "cell_type": "markdown",
   "id": "dacfa72b",
   "metadata": {},
   "source": [
    "Where does the corner **$P_1 = [−0.5, −0.5, −0.5]$** project to?"
   ]
  },
  {
   "cell_type": "code",
   "execution_count": 36,
   "id": "7c151491",
   "metadata": {},
   "outputs": [
    {
     "name": "stdout",
     "output_type": "stream",
     "text": [
      "The corner P1 project to: [100. 220.]\n"
     ]
    }
   ],
   "source": [
    "#Function created to find a specific 2D projected point. \n",
    "def find_projected2Dpoint(Q,points2D,P1):\n",
    "    for ind,row in enumerate(Q):    \n",
    "        if np.all(row==P1):\n",
    "            coord=points2D[ind]\n",
    "    return coord\n",
    "\n",
    "\n",
    "coord= find_projected2Dpoint(Q,points2D,P1)\n",
    "\n",
    "print('The corner P1 project to:',coord)"
   ]
  },
  {
   "cell_type": "markdown",
   "id": "2ebd91e9",
   "metadata": {},
   "source": [
    "- **Exercise 2.2**. Create a new or change your function `projectpoint` to a version that also takes `dist` as an input. The list dist should contain the distortion coefficients $[k3, k5, k7, . . . ].$ Make the function work for at least 3 coefficients.\n"
   ]
  },
  {
   "cell_type": "code",
   "execution_count": 50,
   "id": "bd7cfd2e",
   "metadata": {},
   "outputs": [],
   "source": [
    "def projectpoints_2D(K,Cam,Q):\n",
    "    \n",
    "    [m,n]=np.shape(Q)\n",
    "    cnt=np.ones(m)\n",
    "    Q_ext=np.column_stack((Q,cnt))\n",
    "    Q_ext=np.transpose(Q_ext)\n",
    "    \n",
    "    projection=Cam@(Q_ext)\n",
    "    Pz=projection[2]\n",
    "    qx=np.transpose([projection[0]/projection[2]])\n",
    "    qy=np.transpose([projection[1]/projection[2]])\n",
    "    points2D=np.column_stack((qx,qy))\n",
    "    r=np.sqrt(points2D.T[0]**2+points2D.T[1]**2)\n",
    "    dist= points2D.T*(1-0.2*(r**2))\n",
    "    \n",
    "    Px= dist[0]*Pz\n",
    "    Py= dist[1]*Pz\n",
    "    points3D=np.column_stack((Px,Py,Pz))\n",
    "    \n",
    "    P=K@points3D.T\n",
    "    \n",
    "    qx_f=np.transpose([P[0]/P[2]])\n",
    "    qy_f=np.transpose([P[1]/P[2]])\n",
    "    \n",
    "    dist_points=np.column_stack((qx_f,qy_f))\n",
    "    \n",
    "    return dist_points"
   ]
  },
  {
   "cell_type": "markdown",
   "id": "a9e9e34d",
   "metadata": {},
   "source": [
    "Where does the corner **P1** project to?"
   ]
  },
  {
   "cell_type": "code",
   "execution_count": 52,
   "id": "e6eaac6a",
   "metadata": {},
   "outputs": [
    {
     "name": "stdout",
     "output_type": "stream",
     "text": [
      "[-0.25] [0.35]\n"
     ]
    }
   ],
   "source": [
    "dist_points=projectpoints_2D(K,Cam,Q)\n",
    "\n",
    "# coord= find_projected2Dpoint(Q,dist_points,P1)\n",
    "\n",
    "# print('The corner P1 project to:',coord)"
   ]
  },
  {
   "cell_type": "markdown",
   "id": "fc07daef",
   "metadata": {},
   "source": [
    "Are all the points captured by the image sensor?"
   ]
  },
  {
   "cell_type": "code",
   "execution_count": 154,
   "id": "bab6ce95",
   "metadata": {},
   "outputs": [
    {
     "name": "stdout",
     "output_type": "stream",
     "text": [
      "The points not caputed by the image sensor are: []\n"
     ]
    }
   ],
   "source": [
    "list_coord=[]\n",
    "for coord in dist_points:\n",
    "    if (coord[0]> 800) or (coord[1] > 800):\n",
    "        list_coord.append(list(coord))\n",
    "\n",
    "print('The points not caputed by the image sensor are:',list_coord)"
   ]
  },
  {
   "cell_type": "markdown",
   "id": "00e98faf",
   "metadata": {},
   "source": [
    "<font color='darkblue'> All the points are now projecting inside the image, and will thus be visible."
   ]
  },
  {
   "cell_type": "markdown",
   "id": "a6db1b64",
   "metadata": {},
   "source": [
    "Plot the results and try changing the distortion coefficients. Do they behave as they should?"
   ]
  },
  {
   "cell_type": "code",
   "execution_count": null,
   "id": "58a55709",
   "metadata": {},
   "outputs": [],
   "source": []
  }
 ],
 "metadata": {
  "kernelspec": {
   "display_name": "Python 3 (ipykernel)",
   "language": "python",
   "name": "python3"
  },
  "language_info": {
   "codemirror_mode": {
    "name": "ipython",
    "version": 3
   },
   "file_extension": ".py",
   "mimetype": "text/x-python",
   "name": "python",
   "nbconvert_exporter": "python",
   "pygments_lexer": "ipython3",
   "version": "3.8.12"
  }
 },
 "nbformat": 4,
 "nbformat_minor": 5
}
