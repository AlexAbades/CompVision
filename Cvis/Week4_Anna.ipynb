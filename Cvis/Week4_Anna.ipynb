{
 "cells": [
  {
   "cell_type": "markdown",
   "id": "9d03de01",
   "metadata": {},
   "source": [
    "## Exercise 4: Camera Calibration\n",
    "\n",
    "These exercises will take you through:\n",
    "**Direct linear transform (DLT)**, linear algorithm for camera calibration and\n",
    "**checkerboard calibration**, and bundle adjustment from Zhang (2000). You should be able to perform camera calibration using both methods."
   ]
  },
  {
   "cell_type": "code",
   "execution_count": 1,
   "id": "e7b07bf9",
   "metadata": {},
   "outputs": [],
   "source": [
    "import cv2\n",
    "import matplotlib.pyplot as plt\n",
    "import numpy as np\n",
    "from scipy.interpolate import RegularGridInterpolator\n",
    "from scipy.spatial.transform import Rotation"
   ]
  },
  {
   "cell_type": "markdown",
   "id": "ffefc6bc",
   "metadata": {},
   "source": [
    "### Mathematical exercises: Direct linear transform (DLT)\n",
    "\n",
    "In this section consider the 3D points\n",
    "\n",
    "$$ Q_{ijk} = \\begin{bmatrix} i \\\\ j \\\\ k \\end{bmatrix}$$\n",
    "\n",
    "where i = 0,1, j = 0,1, and k = 0,1. Consider also a camera with f = 1000 and a resolution of 1080 × 1920. Furthermore, the camera is transformed such that\n",
    "\n",
    "$$ R = \\begin{bmatrix} \\sqrt{1/2} & -\\sqrt{1/2} & 0 \\\\ \\sqrt{1/2} & \\sqrt{1/2} & 0 \\\\ 0 & 0 & 1  \\end{bmatrix} , t= \\begin{bmatrix} 0 & 0 & 10\\end{bmatrix}.$$\n",
    "\n",
    "- **Exercise 4.1**. Find **_P_** and the projections **_q_**.\n",
    "\n",
    "<font color='darkblue'>  First, we need to find the camera matrix, which is:\n",
    "<font color='darkblue'> \n",
    "$$ K = \\begin{bmatrix} f & \\beta f & \\delta_x \\\\ 0 & \\alpha f & \\delta_y \\\\ 0 & 0 & 1 \\end{bmatrix}$$"
   ]
  },
  {
   "cell_type": "code",
   "execution_count": 94,
   "id": "47a10063",
   "metadata": {},
   "outputs": [
    {
     "name": "stdout",
     "output_type": "stream",
     "text": [
      "The projection matrix is P=\n",
      "[[ 7.0711e+02 -7.0711e+02  9.6000e+02  9.6000e+03]\n",
      " [ 7.0711e+02  7.0711e+02  5.4000e+02  5.4000e+03]\n",
      " [ 0.0000e+00  0.0000e+00  1.0000e+00  1.0000e+01]]\n"
     ]
    }
   ],
   "source": [
    "#Camera matrix\n",
    "d= (np.array([1920,1080]))/2\n",
    "K=np.array([[1000,0,d[0]],[0,1000,d[1]],[0,0,1]])\n",
    "R=np.array([[np.sqrt(1/2),-np.sqrt(1/2),0],[np.sqrt(1/2),np.sqrt(1/2),0],[0,0,1]]) #rotation\n",
    "t=np.transpose([0,0,10]) #translation\n",
    "Cam=np.column_stack((R,t))\n",
    "P=K@Cam\n",
    "\n",
    "print('The projection matrix is P=')\n",
    "print(np.round(P,2))"
   ]
  },
  {
   "cell_type": "code",
   "execution_count": 3,
   "id": "8bf7918b",
   "metadata": {},
   "outputs": [],
   "source": [
    "i,j,k=[0,1],[0,1],[0,1]\n",
    "Q=[0,0,0]\n",
    "for a in i:\n",
    "    for b in j:\n",
    "        for c in k:\n",
    "            p=[a,b,c]\n",
    "            Q=np.vstack([Q, p])\n",
    "Q=Q[1:]\n",
    "\n",
    "def projectpoints(P,Q):\n",
    "    [m,n]=np.shape(Q)\n",
    "    cnt=np.ones(m)\n",
    "    Q_ext=np.column_stack((Q,cnt))\n",
    "\n",
    "    projection=P@Q_ext.T\n",
    "    \n",
    "    qx=np.transpose([projection[0]/projection[2]])\n",
    "    qy=np.transpose([projection[1]/projection[2]])\n",
    "    \n",
    "    q_ijk=np.column_stack((qx,qy))\n",
    "    \n",
    "    return q_ijk"
   ]
  },
  {
   "cell_type": "code",
   "execution_count": 4,
   "id": "7150e7de",
   "metadata": {},
   "outputs": [
    {
     "name": "stdout",
     "output_type": "stream",
     "text": [
      "The projections q_ijk are:\n",
      "[[ 960.    540.  ]\n",
      " [ 960.    540.  ]\n",
      " [ 889.29  610.71]\n",
      " [ 895.72  604.28]\n",
      " [1030.71  610.71]\n",
      " [1024.28  604.28]\n",
      " [ 960.    681.42]\n",
      " [ 960.    668.56]]\n"
     ]
    }
   ],
   "source": [
    "q=projectpoints(P,Q)\n",
    "\n",
    "print('The projections q_ijk are:')\n",
    "print(np.round(q,2))"
   ]
  },
  {
   "cell_type": "markdown",
   "id": "06ddd078",
   "metadata": {},
   "source": [
    "- **Exercise 4.2**. Using only **_Q_** and **_q_** estimate the projection matrix **_P_** with DLT. Do not normalize your points to begin with.\n",
    "\n",
    "Use the estimated projection matrix to reproject the points **_Q_**. What is the reprojection error $\\sqrt{\\sum||q_{est} − q||^2}$? Does normalizing your points change the results?\n"
   ]
  },
  {
   "cell_type": "code",
   "execution_count": 5,
   "id": "5a068fb5",
   "metadata": {},
   "outputs": [],
   "source": [
    "def DLT(Q,q):\n",
    "    B=np.zeros((1,12))\n",
    "    for i in range(len(Q)):\n",
    "        Xi=Q[i][0]\n",
    "        Yi=Q[i][1]\n",
    "        Zi=Q[i][2]\n",
    "        x1=q[i][0]\n",
    "        y1=q[i][1]\n",
    "        B_i=np.array([[0,-Xi,Xi*y1,0,-Yi,Yi*y1,0,-Zi,Zi*y1,0,-1,y1],[Xi,0,-Xi*x1,Yi,0,-Yi*x1,Zi,0,-Zi*x1,1,0,-x1],\n",
    "                      [-Xi*y1,Xi*x1,0,-Yi*y1,Yi*x1,0,-Zi*y1,Zi*x1,0,-y1,x1,0]])\n",
    "        \n",
    "        B=np.vstack([B, B_i])\n",
    "\n",
    "    B=B[1:,:] \n",
    "    u,s,vh= np.linalg.svd(B,full_matrices=True, compute_uv=True)\n",
    "    \n",
    "    #The parameters are in the last line of Vh and normalize them:\n",
    "    P = vh[-1,:] / vh[-1,-1] \n",
    "    P_est=P.reshape((3,4),order='F')\n",
    "    \n",
    "    return P_est"
   ]
  },
  {
   "cell_type": "code",
   "execution_count": 6,
   "id": "03b5b299",
   "metadata": {},
   "outputs": [
    {
     "name": "stdout",
     "output_type": "stream",
     "text": [
      "The estimated projection matrix P with DLT is:\n",
      "[[ 7.07106781e+01 -7.07106781e+01  9.60000000e+01  9.60000000e+02]\n",
      " [ 7.07106781e+01  7.07106781e+01  5.40000000e+01  5.40000000e+02]\n",
      " [ 1.51950320e-13 -2.06086187e-13  1.00000000e-01  1.00000000e+00]]\n"
     ]
    }
   ],
   "source": [
    "P_est=DLT(Q,q)\n",
    "print('The estimated projection matrix P with DLT is:')\n",
    "print(P_est)"
   ]
  },
  {
   "cell_type": "code",
   "execution_count": 7,
   "id": "886ad994",
   "metadata": {},
   "outputs": [],
   "source": [
    "#Reprojection of points Q with the estimated P\n",
    "repro_q=projectpoints(P_est,Q)\n"
   ]
  },
  {
   "cell_type": "code",
   "execution_count": 8,
   "id": "0e35c86b",
   "metadata": {},
   "outputs": [],
   "source": [
    "def normalize2d_3d(p,d):\n",
    "    x=np.array([p[:,0],np.ones(len(p))])\n",
    "    y=np.array([p[:,1],np.ones(len(p))])\n",
    "\n",
    "    mu_x= np.mean(p[:,0])\n",
    "    mu_y= np.mean(p[:,1])\n",
    "    \n",
    "    std_x= np.std(p[:,0])\n",
    "    std_y= np.std(p[:,1])\n",
    "    \n",
    "    #Tranformation matrix\n",
    "    T_x= np.array([[1/std_x, -mu_x/std_x]])\n",
    "    T_y= np.array([[1/std_y, -mu_y/std_y]])\n",
    "    \n",
    "    x_norm=(T_x@x).T\n",
    "    y_norm=(T_y@y).T\n",
    "\n",
    "    points_norm=np.column_stack((x_norm,y_norm))\n",
    "    T_z=1\n",
    "    \n",
    "    if d==3:\n",
    "        z=np.array([p[:,2],np.ones(len(p))])\n",
    "        mu_z= np.mean(p[:,2])\n",
    "        std_z= np.std(p[:,2])\n",
    "        T_z= np.array([[1/std_z, -mu_z/std_z]])\n",
    "        z_norm=(T_z@z).T\n",
    "        points_norm=np.column_stack((points_norm,z_norm))\n",
    "    \n",
    "    return T_x,T_y,T_z,points_norm\n",
    "\n",
    "\n",
    "def projectionError(ori_q,esti_q):\n",
    "    Err_x=0\n",
    "    Err_y=0\n",
    "    for a in range(len(esti_q)):\n",
    "        Err_x=Err_x+((ori_q[a][0]-esti_q[a][0])**2)\n",
    "        Err_y=Err_y+((ori_q[a][1]-esti_q[a][1])**2)\n",
    "        \n",
    "    Err=np.sqrt(Err_x+Err_y)\n",
    "    \n",
    "    return Err"
   ]
  },
  {
   "cell_type": "code",
   "execution_count": 9,
   "id": "8147f3a4",
   "metadata": {},
   "outputs": [
    {
     "name": "stdout",
     "output_type": "stream",
     "text": [
      "The reprojection error without normalization is  6.6e-10\n",
      "The reprojection error without normalization is  3e-15\n"
     ]
    }
   ],
   "source": [
    "E=projectionError(q,repro_q)\n",
    "print('The reprojection error without normalization is ',np.round(E,11))\n",
    "\n",
    "#We apply a function to normalize the points before estimating P.\n",
    "Tx1,Ty1,Tz1,q_norm=normalize2d_3d(q,2)\n",
    "Tx2,Ty2,Tz2,Q_norm=normalize2d_3d(Q,3)\n",
    "\n",
    "#We estimate projection matrix P with the initial normalized points. \n",
    "P_est_norm=DLT(Q_norm,q_norm)\n",
    "\n",
    "#Reprojection of points Q with the estimated P\n",
    "repro_q_norm=projectpoints(P_est_norm,Q_norm)\n",
    "\n",
    "E_norm=projectionError(q_norm,repro_q_norm)\n",
    "print('The reprojection error without normalization is ',np.round(E_norm,15))\n"
   ]
  },
  {
   "cell_type": "markdown",
   "id": "fa6a2a3c",
   "metadata": {},
   "source": [
    "<font color='darkblue'> The projection matrix and the reprojections are identical to the original within machine precision. The reprojection error on my system is approximately $10^{-11}$ without normalization and $10^{−14}$ with normalization."
   ]
  },
  {
   "cell_type": "markdown",
   "id": "845efbd0",
   "metadata": {},
   "source": [
    "### Programming exercises: Checkerboard calibration\n",
    "\n",
    "Here we will prepare calibration with checkerboards. We do not yet have the ability to detect checkerboards, so for now we will define the points ourselves.\n"
   ]
  },
  {
   "cell_type": "markdown",
   "id": "8db0ecb0",
   "metadata": {},
   "source": [
    "- **Exercise 4.3**. Define a function `checkerboard_points(n, m)` that returns the 3D points\n",
    "\n",
    "$$ Q_{ij} = \\begin{bmatrix} i-\\frac{n-1}{2} \\\\ j-\\frac{m-1}{2} \\\\ 0 \\end{bmatrix},$$\n",
    "\n",
    "where $i = 0,...,n−1$ and $j = 0,...,m−1$. The points should be returned as a 3xn·m matrix and their order does not matter. These points lie in the z = 0 plane by definition.\n",
    "\n"
   ]
  },
  {
   "cell_type": "code",
   "execution_count": 10,
   "id": "e2269357",
   "metadata": {},
   "outputs": [],
   "source": [
    "def checkerboard_points(n,m):\n",
    "    M=np.array([[0],[0],[0]])\n",
    "    for i in range(n):\n",
    "        for j in range(m):\n",
    "            Q=np.array([[i-((n-1)/2)],[j-((m-1)/2)],[0]])\n",
    "            M=np.column_stack((M,Q))\n",
    "    M=M[:,1:]\n",
    "    \n",
    "    return M #(3 x n·m)matrix"
   ]
  },
  {
   "cell_type": "markdown",
   "id": "1448df78",
   "metadata": {},
   "source": [
    "- **Exercise 4.4**. Let $Q_\\Omega$ define a set of corners on a checkerboard. Then define three sets of checkerboard points $Q_a$, $Q_b$, and $Q_c$, where\n",
    "\n",
    "$$Q_a= R(\\frac{\\pi}{10},0,0) Q_\\Omega ,$$\n",
    "$$Q_b= R(0,0,0) Q_\\Omega ,$$\n",
    "$$Q_c= R(-\\frac{\\pi}{10},0,0) Q_\\Omega $$\n",
    "where\n",
    "\n",
    "$$ R(\\theta_x,\\theta_y,\\theta_z) = \\begin{bmatrix} cos(\\theta_z) & -sin(\\theta_z) & 0 \\\\ sin(\\theta_z) & cos(\\theta_z) & 0 \\\\ 0 & 0 & 1 \\end{bmatrix} \\begin{bmatrix} cos(\\theta_y) & 0 & -sin(\\theta_y)\\\\ 0 & 1 & 0 \\\\ sin(\\theta_y) & 0 & cos(\\theta_y) \\end{bmatrix} \\begin{bmatrix} 1 & 0 & 0\\\\ 0 & cos(\\theta_x) & -sin(\\theta_x) \\\\ 0 & sin(\\theta_x) & cos(\\theta_x) \\end{bmatrix}$$\n",
    "\n",
    "Recall that you can compute R with scipy as follows:\n",
    "\n",
    "`from scipy.spatial.transform import Rotation`\n",
    "\n",
    "`R = Rotation.from_euler('xyz', [θx, θy, θz]).as_matrix()`"
   ]
  },
  {
   "cell_type": "code",
   "execution_count": 11,
   "id": "9410eacd",
   "metadata": {},
   "outputs": [
    {
     "data": {
      "image/png": "[encoded data removed]",
      "text/plain": [
       "<Figure size 720x720 with 1 Axes>"
      ]
     },
     "metadata": {
      "needs_background": "light"
     },
     "output_type": "display_data"
    }
   ],
   "source": [
    "from scipy.spatial.transform import Rotation\n",
    "Ra = Rotation.from_euler('xyz', [np.pi/10, 0, 0]).as_matrix()\n",
    "Rb = Rotation.from_euler('xyz', [0, 0, 0]).as_matrix()\n",
    "Rc = Rotation.from_euler('xyz', [-np.pi/10, 0, 0]).as_matrix()\n",
    "\n",
    "Q=checkerboard_points(10,20)\n",
    "Qa=Ra@Q\n",
    "Qb=Rb@Q\n",
    "Qc=Rc@Q\n",
    "\n",
    "fig = plt.figure(figsize=(10,10))\n",
    "ax = fig.add_subplot(121, projection='3d')\n",
    "\n",
    "ax.set_xlabel('x axis')\n",
    "ax.set_ylabel('y axis')\n",
    "ax.set_zlabel('z axis')\n",
    "\n",
    "for point1 in Qa.T:\n",
    "    ax.plot(point1[0], point1[1], point1[2], 'bo')\n",
    "for point2 in Qb.T:\n",
    "    ax.plot(point2[0], point2[1], point2[2], 'go')\n",
    "for point3 in Qc.T:\n",
    "    ax.plot(point3[0], point3[1], point3[2], 'ro')\n"
   ]
  },
  {
   "cell_type": "code",
   "execution_count": 12,
   "id": "098ce559",
   "metadata": {},
   "outputs": [],
   "source": [
    "#We project all the checkerboard points to the image plane\n",
    "q_a=projectpoints(P,Qa.T)\n",
    "q_b=projectpoints(P,Qb.T)\n",
    "q_c=projectpoints(P,Qc.T)"
   ]
  },
  {
   "cell_type": "markdown",
   "id": "08b4a7d2",
   "metadata": {},
   "source": [
    "We will now go through the method outlined in Zhang’s method1 step by step.\n",
    "\n",
    "\n",
    "- **Exercise 4.5**. Define a function `estimateHomographies(Q_omega, qs)` which takes the following input arguments:\n",
    "\n",
    "    - $Q_\\Omega$: an array original un-transformed checkerboard points in 3D, for example $Q_\\Omega$.\n",
    "    - $q_s$: a list of arrays, each element in the list containing $Q_\\Omega$ projected to the image plane from\n",
    "    different views, for example $q_s$ could be $[q_a,q_b,q_c].$\n",
    " \n",
    " \n",
    " \n",
    "The function should return the homographies that map from $Q_\\Omega$ to each of the entries in $q_s$.\n",
    "\n",
    "The homographies should work as follows:\n",
    "$$q= H Q'_\\Omega$$\n",
    "\n",
    "where $Q'_\\Omega$ is $Q_\\Omega$ without the z-coordinate, in homogeneous coordinates. Remember that we need\n",
    "multiple orientations of checkerboards e.g. rotated and translated.\n",
    "\n",
    "Use your function `hest` from week 2 to estimate the individual homographies. Your should return a list of homographies; one homography for each checkerboard orientation.\n",
    "Test your function using $Q_\\Omega$, $q_a$, $q_b$, and $q_c$. Check that the estimated homographies are correct with Equation above. "
   ]
  },
  {
   "cell_type": "code",
   "execution_count": 13,
   "id": "4a76287a",
   "metadata": {},
   "outputs": [],
   "source": [
    "def hest(p,q):\n",
    "    B=np.zeros((1,9))\n",
    "    for i in range(len(p)):\n",
    "        x1=q[i][0]\n",
    "        y1=q[i][1]\n",
    "        x2=p[i][0]\n",
    "        y2=p[i][1]\n",
    "        B_i=np.array([[0,-x2,x2*y1,0,-y2,y1*y2,0,-1,y1],[x2,0,-x2*x1,y2,0,-y2*x1,1,0,-x1],\n",
    "                      [-x2*y1,x2*x1,0,-y2*y1,y2*x1,0,-y1,x1,0]])\n",
    "        \n",
    "        B=np.vstack([B, B_i])\n",
    "    \n",
    "    B=B[1:,:] #12x9\n",
    "    u,s,vh= np.linalg.svd(B,full_matrices=True, compute_uv=True)\n",
    "\n",
    "    H=vh[-1,:] / vh[-1,-1] \n",
    "    H_esti=H.reshape((3,3),order='F')\n",
    "    \n",
    "    return H_esti"
   ]
  },
  {
   "cell_type": "code",
   "execution_count": 14,
   "id": "26aff6d9",
   "metadata": {},
   "outputs": [],
   "source": [
    "def estimateHomographies(Q_omega, qs):\n",
    "    H_set=[]\n",
    "    for q in qs:\n",
    "        H=hest(Q_omega.T,q)\n",
    "        H_set.append(H)\n",
    "    \n",
    "    return H_set"
   ]
  },
  {
   "cell_type": "code",
   "execution_count": 15,
   "id": "3902708f",
   "metadata": {},
   "outputs": [],
   "source": [
    "qs=[q_a,q_b,q_c]\n",
    "H_set=estimateHomographies(Q,qs)"
   ]
  },
  {
   "cell_type": "markdown",
   "id": "c1ce8ff4",
   "metadata": {},
   "source": [
    "Now, we check if the estimated homographies are correct, following: $q= H Q'_\\Omega$\n"
   ]
  },
  {
   "cell_type": "code",
   "execution_count": 16,
   "id": "bb80fda0",
   "metadata": {},
   "outputs": [],
   "source": [
    "#We estimate if the homographies are correct. \n",
    "A=np.vstack([Q[0:2,:],np.ones(len(Q.T))])\n",
    "\n",
    "q_a_esti=np.array([(H_set[0]@A)[0,:]/(H_set[0]@A)[2,:],(H_set[0]@A)[1,:]/(H_set[0]@A)[2,:]])\n",
    "q_b_esti=np.array([(H_set[1]@A)[0,:]/(H_set[1]@A)[2,:],(H_set[1]@A)[1,:]/(H_set[1]@A)[2,:]])\n",
    "q_c_esti=np.array([(H_set[2]@A)[0,:]/(H_set[2]@A)[2,:],(H_set[2]@A)[1,:]/(H_set[2]@A)[2,:]])"
   ]
  },
  {
   "cell_type": "code",
   "execution_count": 17,
   "id": "665c8941",
   "metadata": {},
   "outputs": [
    {
     "name": "stdout",
     "output_type": "stream",
     "text": [
      "Example: An original q_a point is [1413.9356833  -814.79299394]\n",
      "The corresponding q_a point from the estimated homographies is [1413.9356833  -814.79299394]\n"
     ]
    }
   ],
   "source": [
    "print('Example: An original q_a point is',q_a[0])\n",
    "print('The corresponding q_a point from the estimated homographies is',q_a_esti.T[0])"
   ]
  },
  {
   "cell_type": "markdown",
   "id": "19e39e06",
   "metadata": {},
   "source": [
    "<font color='darkblue'> We can conclude that our homographies are correct since the estimate $q_s$ are the same as the original ones, as presented with the example below. "
   ]
  },
  {
   "cell_type": "markdown",
   "id": "c24aa69c",
   "metadata": {},
   "source": [
    "_Paper: Zhang, Zhengyou. \"A flexible new technique for camera calibration.\" IEEE Transactions on pattern analysis and machine intelligence 22.11 (2000): 1330-1334._\n",
    "\n",
    "- **Exercise 4.6**. Now, define a function `estimate_b(Hs)` that takes a list of homographies Hs and returns the vector **_b_** from _Equation 6_ in the paper. Use _Equations 8 and 9_ in the paper to form the matrix **_V_** . This is the coefficient matrix used to estimate **_b_** using SVD.\n",
    "\n",
    "_Paper: Zhang, Zhengyou. \"A flexible new technique for camera calibration.\" IEEE Transactions on pattern analysis and machine intelligence 22.11 (2000): 1330-1334._\n",
    "\n",
    "\n",
    "\n",
    "Test your function with the homographies from previous exercise. See if you get the same result as by constructing $B_{true} = K^{−T}K^{−1}$, and converting this into $b_{true}$.\n",
    "\n",
    "\n",
    "Is **_b_** a scaled version of **$b_{true}$**?\n",
    "\n",
    "Suggestions for debugging: Check that $v_{11} · b_{true} = h^T_1 B_{true}h_1$\n"
   ]
  },
  {
   "cell_type": "code",
   "execution_count": 24,
   "id": "c5b30d5c",
   "metadata": {},
   "outputs": [],
   "source": [
    "def v_if(i,j,h):\n",
    "    i=i-1\n",
    "    j=j-1\n",
    "    v=np.array([h[i][0]*h[j][0],h[i][0]*h[j][1]+h[i][1]*h[j][0],h[i][1]*h[j][1],h[i][2]*h[j][0]+h[i][0]*h[j][2],h[i][2]*h[j][1]+h[i][1]*h[j][2],h[i][2]*h[j][2]]).T\n",
    "    return v"
   ]
  },
  {
   "cell_type": "code",
   "execution_count": 96,
   "id": "05450764",
   "metadata": {},
   "outputs": [],
   "source": [
    "def estimate_b(H_set):\n",
    "    V=np.zeros((1,6))\n",
    "    for Hs in H_set: \n",
    "        v12=v_if(1,2,Hs)\n",
    "        v11_22=v_if(1,1,Hs)-v_if(2,2,Hs)\n",
    "        v_i=np.vstack([v12, v11_22])\n",
    "        V=np.vstack([V, v_i])\n",
    " \n",
    "    \n",
    "    V=V[1:,:] #2n x 6 matrix\n",
    "    u,s,vh= np.linalg.svd(V,full_matrices=True, compute_uv=True)\n",
    "    b=vh[-1,:] / vh[-1,-1]\n",
    "    #B is symmetric, defined by a 6D vector\n",
    "    b_esti=np.array([[b[0],b[1],b[3]],[b[1],b[2],b[4]],[b[3],b[4],b[5]]])\n",
    "    \n",
    "    return V,b,b_esti"
   ]
  },
  {
   "cell_type": "code",
   "execution_count": 97,
   "id": "8ddddc24",
   "metadata": {},
   "outputs": [
    {
     "name": "stdout",
     "output_type": "stream",
     "text": [
      "The estimated b from the homographies is:\n",
      "[[ 1.21320000e+02  2.25358026e-12 -1.06066017e+01]\n",
      " [ 2.25358026e-12 -7.87464182e-13 -2.20921538e-13]\n",
      " [-1.06066017e+01 -2.20921538e-13  1.00000000e+00]]\n",
      " \n",
      "B_true matrix is:\n",
      "[[ 1.0000e-06  0.0000e+00 -9.6000e-04]\n",
      " [ 0.0000e+00  1.0000e-06 -5.4000e-04]\n",
      " [-9.6000e-04 -5.4000e-04  2.2132e+00]]\n"
     ]
    }
   ],
   "source": [
    "V,b_vect,b_esti=estimate_b(H_set)\n",
    "print('The estimated b from the homographies is:')\n",
    "print(b_esti)\n",
    "print(' ')\n",
    "B_true= np.linalg.inv(K).T@np.linalg.inv(K)\n",
    "print('B_true matrix is:')\n",
    "print(B_true)"
   ]
  },
  {
   "cell_type": "markdown",
   "id": "0d542240",
   "metadata": {},
   "source": [
    "- **Exercise 4.7**. Next ,define a function `estimateIntrisics(Hs)` that takes a list of homographies **_Hs_** and returns a camera matrix **_K_**. Use your `estimate_b` from the previous exercise. From **_b_**, estimate the camera matrix **_K_** (they use A in the paper). Find the solution in Appendix B from the paper: \n",
    "$B = \\lambda A^{−T} A $\n",
    "\n",
    "$$ A = \\begin{bmatrix} \\alpha & \\gamma & u_0 \\\\ 0 & \\beta & v_0 \\\\ 0 & 0 & 1  \\end{bmatrix}$$\n",
    "\n",
    "Our camera matrix was: \n",
    "$$ K = \\begin{bmatrix} 1000 & 0 & 960 \\\\ 0 & 1000 & 540 \\\\ 0 & 0 & 1  \\end{bmatrix}$$\n",
    "\n",
    "\n",
    "\n",
    "\n",
    "_Solution:_\n",
    "$$v_0=(B_{12}B_{13}-B_{11}B_{23})/(B_{11}B_{22}-B_{12}^2) $$\n",
    "$$\\lambda=B_{33}-[B_{13}^2+ v_0(B_{12}B_{13}-B_{11}B_{23})]/B_{11} $$\n",
    "$$\\alpha= \\sqrt{\\lambda/B_{11}} $$\n",
    "$$\\beta= \\sqrt{\\lambda B_{11}/(B_{11}B_{22}-B_{12}^2)}$$\n",
    "$$\\gamma=-B_{12}\\alpha^2\\beta/\\lambda $$\n",
    "$$u_0=\\gamma v_0/\\beta-B_{13}\\alpha^2/\\lambda $$\n",
    "\n",
    "\n",
    "Test your function with the homographies from Exercise 4.5. Do you get the original camera matrix?"
   ]
  },
  {
   "cell_type": "code",
   "execution_count": 179,
   "id": "24162729",
   "metadata": {},
   "outputs": [],
   "source": [
    "def estimateIntrisics(H_set):\n",
    "    \n",
    "    V,b_v,b_esti=estimate_b(H_set)\n",
    "    B11,B12,B22,B13,B23,B33=b_v[0],b_v[1],b_v[2],b_v[3],b_v[4],b_v[5]\n",
    "    \n",
    "    v_0= (B12*B13-B11*B23)/(B11*B22-(B12**2))\n",
    "    lam= B33 - (B13**2+v_0*(B12*B13-B11*B23))/B11\n",
    "    alpha= np.sqrt(lam/B11)\n",
    "    beta= np.sqrt(lam*B11/(B11*B22-(B12**2)))\n",
    "    gamma= (-B12*alpha**2*beta)/lam\n",
    "    u_0=((gamma*v_0)/beta) - ((B13*alpha**2)/lam)\n",
    "    \n",
    "    K_esti=np.array([[alpha,gamma,u_0],[0,beta,v_0],[0,0,1]])\n",
    "    \n",
    "    return K_esti,lam"
   ]
  },
  {
   "cell_type": "code",
   "execution_count": 180,
   "id": "3dca7dae",
   "metadata": {},
   "outputs": [
    {
     "name": "stderr",
     "output_type": "stream",
     "text": [
      "/var/folders/10/xzk2l09d3_g6x6v7c5tmyw7m0000gn/T/ipykernel_66428/1929068456.py:9: RuntimeWarning: invalid value encountered in sqrt\n",
      "  beta= np.sqrt(lam*B11/(B11*B22-(B12**2)))\n"
     ]
    }
   ],
   "source": [
    "K_esti,lam=estimateIntrisics(H_set)"
   ]
  },
  {
   "cell_type": "markdown",
   "id": "85bcccfe",
   "metadata": {},
   "source": [
    "- **Exercise 4.8**. Now, define a function `Rs, ts = estimateExtrinsics(K, Hs)` that takes the camera matrix **_K_** and the homographies **_Hs_** and returns the rotations **_Rs_** and translations **_ts_** of each checkerboard. Use the formulas given in the paper but you do not need to bother with Appendix C — we can live with the error.\n",
    "\n",
    "What kind of rotations do you get, and are they valid?\n",
    "Join the functions to make a larger function `K, Rs, ts = calibratecamera(qs, Q)` that finds the camera intrinsics and extrinsics from the checkerboard correspondences q and Q."
   ]
  },
  {
   "cell_type": "code",
   "execution_count": 133,
   "id": "4442a4b7",
   "metadata": {},
   "outputs": [],
   "source": [
    "def estimateExtrinsics(K,lam, H_set):\n",
    "    R_set=[]\n",
    "    t_set=[]\n",
    "    for Hs in H_set:\n",
    "        r1=lam*np.linalg.inv(K)@Hs[:,0]\n",
    "        r2=lam*np.linalg.inv(K)@Hs[:,1]\n",
    "        r3=np.cross(r1,r2)\n",
    "        t=lam*np.linalg.inv(K)@Hs[:,2]\n",
    "        \n",
    "        R=np.column_stack((r1,r2,r3))\n",
    "        \n",
    "        R_set.append(R)\n",
    "        t_set.append(t)\n",
    "\n",
    "    return R_set,t_set"
   ]
  },
  {
   "cell_type": "code",
   "execution_count": 134,
   "id": "7548125a",
   "metadata": {},
   "outputs": [],
   "source": [
    "R_set,t_set=estimateExtrinsics(K,lam,H_set)"
   ]
  },
  {
   "cell_type": "code",
   "execution_count": 145,
   "id": "7f847443",
   "metadata": {},
   "outputs": [],
   "source": [
    "def calibratecamera(qs, Q):\n",
    "    \n",
    "    Q_omega=checkerboard_points(10,20)\n",
    "    H_set=estimateHomographies(Q_omega,qs)\n",
    "    \n",
    "    V,b_vect,b_esti=estimate_b(H_set)\n",
    "    \n",
    "    K_esti,lam=estimateIntrisics(H_set)\n",
    "    Rs,ts=estimateExtrinsics(K,lam,H_set)\n",
    " \n",
    "\n",
    "    return K_esti,Rs,ts"
   ]
  },
  {
   "cell_type": "code",
   "execution_count": 146,
   "id": "316b6f08",
   "metadata": {},
   "outputs": [
    {
     "name": "stderr",
     "output_type": "stream",
     "text": [
      "/var/folders/10/xzk2l09d3_g6x6v7c5tmyw7m0000gn/T/ipykernel_66428/2043065906.py:9: RuntimeWarning: invalid value encountered in sqrt\n",
      "  beta= np.sqrt(lam*B11/(B11*B22-(B12**2)))\n"
     ]
    }
   ],
   "source": [
    "qs=[q_a,q_b,q_c] #2D points\n",
    "Q=[Qa,Qb,Qc] #3D points\n",
    "\n",
    "K_esti,Rs,ts=calibratecamera(qs,Q)"
   ]
  }
 ],
 "metadata": {
  "kernelspec": {
   "display_name": "Python 3 (ipykernel)",
   "language": "python",
   "name": "python3"
  },
  "language_info": {
   "codemirror_mode": {
    "name": "ipython",
    "version": 3
   },
   "file_extension": ".py",
   "mimetype": "text/x-python",
   "name": "python",
   "nbconvert_exporter": "python",
   "pygments_lexer": "ipython3",
   "version": "3.8.8"
  }
 },
 "nbformat": 4,
 "nbformat_minor": 5
}
