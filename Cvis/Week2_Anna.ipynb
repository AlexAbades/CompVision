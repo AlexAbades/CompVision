{
 "cells": [
  {
   "cell_type": "markdown",
   "id": "a506dba3",
   "metadata": {},
   "source": [
    "## Exercise 2: Rigid and perspective transformations in homogeneous coordinates\n"
   ]
  },
  {
   "cell_type": "code",
   "execution_count": 1,
   "id": "9c175c5f",
   "metadata": {},
   "outputs": [],
   "source": [
    "import cv2\n",
    "import matplotlib.pyplot as plt\n",
    "import numpy as np"
   ]
  },
  {
   "cell_type": "markdown",
   "id": "e7b41a0a",
   "metadata": {},
   "source": [
    "In these exercises we will assume a modern camera with completely square pixels. What are the skew parameters then?\n",
    "\n",
    "- The skew parameters α and β, where α = 1 and β=0. "
   ]
  },
  {
   "cell_type": "markdown",
   "id": "04c4919e",
   "metadata": {},
   "source": [
    "### Mathematical exercises: Pinhole camera\n",
    "\n",
    "- **Exercise 2.1**. Reuse the `box3` function from last week. Assume that f = 600, α = 1, β = 0, and δx = δy = 400. Given a traditional camera, what is the resolution in pixels?\n",
    "\n",
    "For this camera the sensor has 2 × 400 = 800 pixels along each dimension i.e. a resolution of **800 × 800 pixels.**\n",
    "\n",
    "$$ K = \\begin{bmatrix} f & \\beta f & \\delta_x \\\\ 0 & \\alpha f & \\delta_y \\\\ 0 & 0 & 1 \\end{bmatrix}$$\n",
    "\n",
    "\n",
    "$$ K = \\begin{bmatrix} 600 & 0 & 400 \\\\ 0 & 600 & 400 \\\\ 0 & 0 & 1 \\end{bmatrix}$$\n",
    "\n",
    "Also assume $R = I$, and $t = [0,.2,1.5]^T.$ Use `projectpoint` from last week, to project the points."
   ]
  },
  {
   "cell_type": "code",
   "execution_count": 5,
   "id": "36041363",
   "metadata": {},
   "outputs": [],
   "source": [
    "def box3d(n):\n",
    "    comb=[(0.5,0.5),(0.5,-0.5),(-0.5,0.5),(-0.5,-0.5)]\n",
    "    a=np.linspace(-0.5, 0.5, n)\n",
    "    box=[0,0,0]\n",
    "\n",
    "    for j in comb:\n",
    "        for i in a:\n",
    "            p=[i,j[0],j[1]]\n",
    "            box=np.vstack([box, p])\n",
    "\n",
    "    for j in comb:\n",
    "        for i in a[1:-1]:\n",
    "            p=[j[0],i,j[1]]\n",
    "            box=np.vstack([box, p])\n",
    "\n",
    "    for j in comb:\n",
    "        for i in a[1:-1]:\n",
    "            p=[j[0],j[1],i]\n",
    "            box=np.vstack([box, p])\n",
    "\n",
    "    for i in a:\n",
    "        cross1=[i,0,0]   \n",
    "        box=np.vstack([box, cross1])\n",
    "    for i in a:\n",
    "        cross2=[0,i,0]   \n",
    "        box=np.vstack([box, cross2])\n",
    "    for i in a:\n",
    "        cross3=[0,0,i]   \n",
    "        box=np.vstack([box, cross3])\n",
    "      \n",
    "    box=box[1:]\n",
    "\n",
    "    return box\n",
    "\n",
    "\n",
    "def projectpoints(K,Cam,Q):\n",
    "    #projection matrix P\n",
    "    P=K@Cam\n",
    "    \n",
    "    [m,n]=np.shape(Q)\n",
    "    cnt=np.ones(m)\n",
    "    Q_ext=np.column_stack((Q,cnt))\n",
    "    \n",
    "    Q_ext=np.transpose(Q_ext)\n",
    "    \n",
    "    projection=P@(Q_ext)\n",
    "    \n",
    "    qx=np.transpose([projection[0]/projection[2]])\n",
    "    qy=np.transpose([projection[1]/projection[2]])\n",
    "    \n",
    "    project2D=np.column_stack((qx,qy))\n",
    "    \n",
    "    project3D=np.transpose(projection)\n",
    "    \n",
    "    return P,project2D, project3D"
   ]
  },
  {
   "cell_type": "code",
   "execution_count": 9,
   "id": "53b72f21",
   "metadata": {},
   "outputs": [
    {
     "name": "stdout",
     "output_type": "stream",
     "text": [
      "The projection matrix of the camera is:\n",
      "[[600.    0.  400.  600. ]\n",
      " [  0.  600.  400.  720. ]\n",
      " [  0.    0.    1.    1.5]]\n"
     ]
    }
   ],
   "source": [
    "K=np.array([[600,0,400],[0,600,400],[0,0,1]]) #camera matrix\n",
    "R=np.array([[1,0,0],[0,1,0],[0,0,1]]) #rotation\n",
    "t=np.transpose([0,0.2,1.5]) #translation\n",
    "Q=box3d(16) #n points in 3D to be projected into the camera\n",
    "\n",
    "Cam=np.column_stack((R,t))\n",
    "\n",
    "P,points2D,points3D=projectpoints(K,Cam,Q)\n",
    "print('The projection matrix of the camera is:')\n",
    "print(P)"
   ]
  },
  {
   "cell_type": "markdown",
   "id": "28795268",
   "metadata": {},
   "source": [
    "Are all the points are captured by the image sensor? Where does the corner $P_1 = [−0.5, −0.5, −0.5]$ project to?\n",
    "\n",
    "<font color='darkblue'> Some points have an y value greater than 800, and are not visible in the image, as they are outside the image sensor.\n",
    "    \n",
    "    \n",
    "    "
   ]
  },
  {
   "cell_type": "code",
   "execution_count": null,
   "id": "8db7d3e1",
   "metadata": {},
   "outputs": [],
   "source": [
    "#Function created to see the projected point of a \n",
    "def projectpoint(coord)\n",
    "\n",
    "\n",
    "    return coord"
   ]
  }
 ],
 "metadata": {
  "kernelspec": {
   "display_name": "Python 3 (ipykernel)",
   "language": "python",
   "name": "python3"
  },
  "language_info": {
   "codemirror_mode": {
    "name": "ipython",
    "version": 3
   },
   "file_extension": ".py",
   "mimetype": "text/x-python",
   "name": "python",
   "nbconvert_exporter": "python",
   "pygments_lexer": "ipython3",
   "version": "3.8.8"
  }
 },
 "nbformat": 4,
 "nbformat_minor": 5
}
